{
  "nbformat": 4,
  "nbformat_minor": 0,
  "metadata": {
    "colab": {
      "name": "activation.ipynb",
      "provenance": []
    },
    "kernelspec": {
      "name": "python3",
      "display_name": "Python 3"
    },
    "language_info": {
      "name": "python"
    }
  },
  "cells": [
    {
      "cell_type": "code",
      "metadata": {
        "id": "bXJr2_mrmbiy"
      },
      "source": [
        "import numpy as np\n"
      ],
      "execution_count": null,
      "outputs": []
    },
    {
      "cell_type": "code",
      "metadata": {
        "id": "GRSSWo4Qmgeg"
      },
      "source": [
        "class Relu:\n",
        "    def __init__(self):\n",
        "        self.cache = {}\n",
        "        self.has_units = False\n",
        "\n",
        "    def has_weights(self):\n",
        "        return self.has_units\n",
        "\n",
        "    def forward_propagate(self, Z, save_cache=False):\n",
        "        if save_cache:\n",
        "            self.cache['Z'] = Z\n",
        "        return np.where(Z >= 0, Z, 0)\n",
        "\n",
        "    def back_propagate(self, dA):\n",
        "        Z = self.cache['Z']\n",
        "        return dA * np.where(Z >= 0, 1, 0)\n",
        "\n",
        "\n",
        "\n",
        "\n",
        "\n",
        "\n",
        "\n",
        "\n"
      ],
      "execution_count": null,
      "outputs": []
    },
    {
      "cell_type": "code",
      "metadata": {
        "id": "oJn2O9B2mgz8"
      },
      "source": [
        "class Softmax:\n",
        "    def __init__(self):\n",
        "        self.cache = {}\n",
        "        self.has_units = False\n",
        "\n",
        "    def has_weights(self):\n",
        "        return self.has_units\n",
        "\n",
        "    def forward_propagate(self, Z, save_cache=False):\n",
        "        if save_cache:\n",
        "            self.cache['Z'] = Z\n",
        "        Z_ = Z - Z.max()\n",
        "        e = np.exp(Z_)\n",
        "        return e / np.sum(e, axis=0, keepdims=True)\n",
        "\n",
        "    def back_propagate(self, dA):\n",
        "        Z = self.cache['Z']\n",
        "        return dA * (Z * (1 - Z))"
      ],
      "execution_count": null,
      "outputs": []
    },
    {
      "cell_type": "code",
      "metadata": {
        "id": "cv9rLFmImg_X"
      },
      "source": [
        "class Elu:\n",
        "    def __init__(self, alpha=1.2):\n",
        "        self.cache = {}\n",
        "        self.params = {\n",
        "            'alpha': alpha\n",
        "        }\n",
        "        self.has_units = False\n",
        "\n",
        "    def has_weights(self):\n",
        "        return self.has_units\n",
        "\n",
        "    def forward_propagate(self, Z, save_cache=False):\n",
        "        if save_cache:\n",
        "            self.cache['Z'] = Z\n",
        "        return np.where(Z >= 0, Z, self.params['alpha'] * (np.exp(Z) - 1))\n",
        "\n",
        "    def back_propagate(self, dA):\n",
        "        alpha = self.params['alpha']\n",
        "        Z = self.cache['Z']\n",
        "        return dA * np.where(Z >= 0, 1, self.forward_propagate(Z, alpha) + alpha)"
      ],
      "execution_count": null,
      "outputs": []
    },
    {
      "cell_type": "code",
      "metadata": {
        "id": "Gu3yK6OlmhHx"
      },
      "source": [
        "class Selu:\n",
        "    def __init__(self, alpha=1.6733, selu_lambda=1.0507):\n",
        "        self.params = {\n",
        "            'alpha' : alpha,\n",
        "            'lambda' : selu_lambda\n",
        "        }\n",
        "        self.cache = {}\n",
        "        self.has_units = False\n",
        "\n",
        "    def has_weights(self):\n",
        "        return self.has_units\n",
        "\n",
        "    def forward_propagate(self, Z, save_cache=False):\n",
        "        if save_cache:\n",
        "            self.cache['Z'] = Z\n",
        "        return self.params['lambda'] * np.where(Z >= 0, Z, self.params['alpha'] * (np.exp(Z) - 1))\n",
        "\n",
        "    def back_propagate(self, dA):\n",
        "        Z = self.cache['Z']\n",
        "        selu_lambda, alpha = self.params['lambda'], self.params['alpha']\n",
        "        return dA * selu_lambda*np.where(Z >= 0, 1, alpha*np.exp(Z))\n"
      ],
      "execution_count": null,
      "outputs": []
    }
  ]
}