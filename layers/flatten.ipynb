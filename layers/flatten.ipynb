{
  "nbformat": 4,
  "nbformat_minor": 0,
  "metadata": {
    "colab": {
      "name": "flatten.ipynb",
      "provenance": []
    },
    "kernelspec": {
      "name": "python3",
      "display_name": "Python 3"
    },
    "language_info": {
      "name": "python"
    }
  },
  "cells": [
    {
      "cell_type": "code",
      "metadata": {
        "id": "s2KE7FbCoEBr"
      },
      "source": [
        "import numpy as np\n",
        "\n",
        "\n"
      ],
      "execution_count": 1,
      "outputs": []
    },
    {
      "cell_type": "code",
      "metadata": {
        "id": "EIspIWKYoI6Y"
      },
      "source": [
        "class Flatten:\n",
        "    def __init__(self, transpose=True):\n",
        "        self.shape = ()\n",
        "        self.transpose = transpose\n",
        "        self.has_units = False\n",
        "\n",
        "    "
      ],
      "execution_count": 2,
      "outputs": []
    },
    {
      "cell_type": "code",
      "metadata": {
        "id": "GbHDFRfloN5_"
      },
      "source": [
        "    def has_weights(self):\n",
        "        return self.has_units"
      ],
      "execution_count": 3,
      "outputs": []
    },
    {
      "cell_type": "code",
      "metadata": {
        "id": "ibElY-hwoOcZ"
      },
      "source": [
        "def forward_propagate(self, Z, save_cache=False):\n",
        "        shape = Z.shape\n",
        "        if save_cache:\n",
        "            self.shape = shape\n",
        "        data = np.ravel(Z).reshape(shape[0], -1)\n",
        "        if self.transpose:\n",
        "            data = data.T\n",
        "        return data"
      ],
      "execution_count": 4,
      "outputs": []
    },
    {
      "cell_type": "code",
      "metadata": {
        "id": "CqGMKnIvoOuj"
      },
      "source": [
        "def back_propagate(self, Z):\n",
        "        if self.transpose:\n",
        "            Z = Z.T\n",
        "        return Z.reshape(self.shape)"
      ],
      "execution_count": 5,
      "outputs": []
    }
  ]
}