{
  "nbformat": 4,
  "nbformat_minor": 0,
  "metadata": {
    "colab": {
      "name": "losses.ipynb",
      "provenance": []
    },
    "kernelspec": {
      "name": "python3",
      "display_name": "Python 3"
    }
  },
  "cells": [
    {
      "cell_type": "code",
      "metadata": {
        "id": "W_D2vRop7a21"
      },
      "source": [
        "import numpy as np"
      ],
      "execution_count": 1,
      "outputs": []
    },
    {
      "cell_type": "code",
      "metadata": {
        "id": "QCl2IDpYkEXI"
      },
      "source": [
        "class BinaryCrossEntropy:\r\n",
        "    @staticmethod\r\n",
        "    def compute_loss(labels, predictions, epsilon=1e-8):\r\n",
        "        '''\r\n",
        "       The function to compute the categorical cross entropy loss, given training labels and prediction\r\n",
        "       :param labels:[numpy array]: Training labels\r\n",
        "       :param predictions:[numpy array]: Predicted labels\r\n",
        "       :param epsilon:[float default=1e-8]: A small value for applying clipping for stability\r\n",
        "       :return:[float]: The computed value of loss.\r\n",
        "       '''\r\n",
        "        predictions /= np.sum(predictions, axis=0, keepdims=True)\r\n",
        "        predictions = np.clip(predictions, epsilon, 1. - epsilon)\r\n",
        "        return -np.sum(labels * np.log(predictions))\r\n",
        "\r\n",
        "    @staticmethod\r\n",
        "    def compute_derivative(labels, predictions):\r\n",
        "        '''\r\n",
        "        The function to compute the derivative values of categorical cross entropy values, given labels and prediction\r\n",
        "        :param labels:[numpy array]: Training labels\r\n",
        "        :param predictions:[numpy array]: Predicted labels\r\n",
        "        :return:[numpy array]: The computed derivatives of categorical cross entropy function.\r\n",
        "        '''\r\n",
        "        return labels - predictions\r\n",
        "\r\n"
      ],
      "execution_count": null,
      "outputs": []
    }
  ]
}