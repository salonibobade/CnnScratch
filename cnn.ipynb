{
 "cells": [
  {
   "cell_type": "code",
   "execution_count": null,
   "metadata": {
    "id": "HhP7dlKOlCSl"
   },
   "outputs": [],
   "source": [
    "from layers.fully_connected import FullyConnected\n",
    "from layers.convolution import Convolution\n",
    "from layers.pooling import Pooling\n",
    "from layers.flatten import Flatten\n",
    "from layers.activation import Elu, Softmax\n",
    "\n",
    "from utilities.filereader import get_data\n",
    "from utilities.model import Model\n",
    "\n",
    "from loss.losses import BinaryCrossEntropy\n",
    "\n",
    "import numpy as np\n",
    "np.random.seed(0)\n"
   ]
  },
  {
   "cell_type": "code",
   "execution_count": null,
   "metadata": {
    "id": "El1CmrgPlLD0"
   },
   "outputs": [],
   "source": [
    "if __name__ == '__main__':\n",
    "    train_data, train_labels = get_data(num_samples=1314)\n",
    "    test_data, test_labels = get_data(num_samples=308, dataset=\"testing\")\n",
    "\n",
    "    train_data = train_data / 255\n",
    "    test_data = test_data / 255\n",
    "\n",
    "    print(\"Train data shape: {}, {}\".format(train_data.shape, train_labels.shape))\n",
    "    print(\"Test data shape: {}, {}\".format(test_data.shape, test_labels.shape))\n"
   ]
  },
  {
   "cell_type": "code",
   "execution_count": null,
   "metadata": {
    "id": "2gOFjcETlRlm"
   },
   "outputs": [],
   "source": [
    " model = Model(\n",
    "        Convolution(filters=5, padding='same'),\n",
    "        Elu(),\n",
    "        Pooling(mode='max', kernel_shape=(2, 2), stride=2),\n",
    "        Flatten(),\n",
    "        FullyConnected(units=10),\n",
    "        Softmax(),\n",
    "        name='cnn5'\n",
    "    )\n",
    "\n",
    "  \n"
   ]
  },
  {
   "cell_type": "code",
   "execution_count": null,
   "metadata": {
    "id": "9z9bzCFDlb5a"
   },
   "outputs": [],
   "source": [
    "  model.set_loss(BinaryCrossEntropy)\n",
    "\n",
    "    model.train(train_data, train_labels.T, epochs=5) # set load_and_continue to True if you want to start from already trained weights\n",
    "    # model.load_weights() # uncomment if loading previously trained weights and comment above line to skip training and only load trained weights.\n",
    "\n",
    "    print('Testing accuracy = {}'.format(model.evaluate(test_data, test_labels)))"
   ]
  }
 ],
 "metadata": {
  "colab": {
   "name": "cnn.ipynb",
   "provenance": []
  },
  "kernelspec": {
   "display_name": "Python 3",
   "language": "python",
   "name": "python3"
  },
  "language_info": {
   "codemirror_mode": {
    "name": "ipython",
    "version": 3
   },
   "file_extension": ".py",
   "mimetype": "text/x-python",
   "name": "python",
   "nbconvert_exporter": "python",
   "pygments_lexer": "ipython3",
   "version": "3.7.4"
  }
 },
 "nbformat": 4,
 "nbformat_minor": 1
}
