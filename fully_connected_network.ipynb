{
  "nbformat": 4,
  "nbformat_minor": 0,
  "metadata": {
    "colab": {
      "name": "fully_connected_network.ipynb",
      "provenance": []
    },
    "kernelspec": {
      "name": "python3",
      "display_name": "Python 3"
    },
    "language_info": {
      "name": "python"
    }
  },
  "cells": [
    {
      "cell_type": "code",
      "metadata": {
        "id": "gdzDim4llyzq"
      },
      "source": [
        "from layers.fully_connected import FullyConnected\n",
        "from layers.flatten import Flatten\n",
        "from layers.activation import Elu, Softmax\n",
        "\n",
        "from utilities.filereader import get_data\n",
        "from utilities.model import Model\n",
        "\n",
        "from loss.losses import BinaryCrossEntropy\n",
        "\n",
        "\n",
        "import numpy as np\n",
        "np.random.seed(0)\n"
      ],
      "execution_count": null,
      "outputs": []
    },
    {
      "cell_type": "code",
      "metadata": {
        "id": "pnApQUxMlz9L"
      },
      "source": [
        "if __name__ == '__main__':\n",
        "    train_data, train_labels = get_data()\n",
        "    test_data, test_labels = get_data(num_samples=308, dataset=\"testing\")\n",
        "\n",
        "    train_data = train_data / 255\n",
        "    test_data = test_data / 255\n",
        "    train_labels = train_labels.T\n",
        "    test_labels = test_labels.T\n",
        "\n",
        "    print(\"Train data shape: {}, {}\".format(train_data.shape, train_labels.shape))\n",
        "    print(\"Test data shape: {}, {}\".format(test_data.shape, test_labels.shape))\n"
      ],
      "execution_count": null,
      "outputs": []
    },
    {
      "cell_type": "code",
      "metadata": {
        "id": "u24wIdsIl21u"
      },
      "source": [
        " model = Model(\n",
        "        Flatten(),\n",
        "        FullyConnected(units=100),\n",
        "        Elu(),\n",
        "        FullyConnected(units=50),\n",
        "        Elu(),\n",
        "        FullyConnected(units=10),\n",
        "        Softmax(),\n",
        "        name='fcn100'\n",
        "    )\n"
      ],
      "execution_count": null,
      "outputs": []
    },
    {
      "cell_type": "code",
      "metadata": {
        "id": "zRPyR0l_l3SI"
      },
      "source": [
        "model.set_loss(BinaryCrossEntropy)\n",
        "    model.train(train_data, train_labels, batch_size=32, epochs=13)\n",
        "\n",
        "    print('Testing accuracy = {}'.format(model.evaluate(test_data, test_labels)))\n",
        "\n"
      ],
      "execution_count": null,
      "outputs": []
    }
  ]
}