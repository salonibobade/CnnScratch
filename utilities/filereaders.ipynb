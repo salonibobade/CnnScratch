{
 "cells": [
  {
   "cell_type": "code",
   "execution_count": 1,
   "metadata": {
    "executionInfo": {
     "elapsed": 762,
     "status": "ok",
     "timestamp": 1616160591472,
     "user": {
      "displayName": "4310_SALONI BOBADE",
      "photoUrl": "https://lh3.googleusercontent.com/a-/AOh14Gg2aIOEj8A3A8D41lW7w7Tqe0H5bPeCT0u0_ha0=s64",
      "userId": "04126209980428894408"
     },
     "user_tz": -330
    },
    "id": "Q3L_OMKkoen5"
   },
   "outputs": [],
   "source": [
    "import pickle\n",
    "import numpy as np"
   ]
  },
  {
   "cell_type": "code",
   "execution_count": 5,
   "metadata": {
    "colab": {
     "base_uri": "https://localhost:8080/",
     "height": 330
    },
    "executionInfo": {
     "elapsed": 1506,
     "status": "error",
     "timestamp": 1616160944097,
     "user": {
      "displayName": "4310_SALONI BOBADE",
      "photoUrl": "https://lh3.googleusercontent.com/a-/AOh14Gg2aIOEj8A3A8D41lW7w7Tqe0H5bPeCT0u0_ha0=s64",
      "userId": "04126209980428894408"
     },
     "user_tz": -330
    },
    "id": "QU6VOvm0oq0j",
    "outputId": "b0bb8a46-3486-4d39-8ec8-57004a7903cb"
   },
   "outputs": [
    {
     "ename": "ModuleNotFoundError",
     "evalue": "No module named 'utilities'",
     "output_type": "error",
     "traceback": [
      "\u001b[1;31m---------------------------------------------------------------------------\u001b[0m",
      "\u001b[1;31mModuleNotFoundError\u001b[0m                       Traceback (most recent call last)",
      "\u001b[1;32m<ipython-input-5-b656c7d4fbeb>\u001b[0m in \u001b[0;36m<module>\u001b[1;34m\u001b[0m\n\u001b[0;32m      1\u001b[0m \u001b[1;32mfrom\u001b[0m \u001b[0mos\u001b[0m \u001b[1;32mimport\u001b[0m \u001b[0mpath\u001b[0m\u001b[1;33m\u001b[0m\u001b[1;33m\u001b[0m\u001b[0m\n\u001b[1;32m----> 2\u001b[1;33m \u001b[1;32mfrom\u001b[0m \u001b[0mutilities\u001b[0m\u001b[1;33m.\u001b[0m\u001b[0mutils\u001b[0m \u001b[1;32mimport\u001b[0m \u001b[0mto_categorical\u001b[0m\u001b[1;33m\u001b[0m\u001b[1;33m\u001b[0m\u001b[0m\n\u001b[0m",
      "\u001b[1;31mModuleNotFoundError\u001b[0m: No module named 'utilities'"
     ]
    }
   ],
   "source": [
    "from os import path\n",
    "from utilities.utils import to_categorical"
   ]
  },
  {
   "cell_type": "code",
   "execution_count": 3,
   "metadata": {
    "id": "tOyNspjJopM3"
   },
   "outputs": [],
   "source": [
    "TOTAL_BATCHES = 51\n",
    "NUM_DIMENSIONS = 3072\n",
    "NUM_CLASSES = 2\n",
    "SAMPLES_PER_BATCH = 32\n",
    "MAX_TRAINING_SAMPLES = 1314\n",
    "MAX_TESTING_SAMPLES = 308\n",
    "FILE_NAME = {\n",
    "    'training': 'data_batch_',\n",
    "    'testing': 'test_batch'\n",
    "}\n"
   ]
  },
  {
   "cell_type": "code",
   "execution_count": 4,
   "metadata": {
    "id": "FIiVj-nBonF7"
   },
   "outputs": [],
   "source": [
    "def unpickle(file, num_samples=10000):\n",
    "    '''\n",
    "    Function to read the data from the binary files\n",
    "    Description of data taken from CIFAR-10 website\n",
    "    :param file: the path to the datafile\n",
    "    :param num_samples: (remaining) samples required from a particular set (not same as num_samples in get_data)\n",
    "    :return: data and one-hot-encoded labels\n",
    "    '''\n",
    "    with open(file, 'rb') as fo:\n",
    "        data = pickle.load(fo, encoding='bytes')\n",
    "    return data[b'data'][:num_samples, :], to_categorical(data[b'labels'][:num_samples], NUM_CLASSES)"
   ]
  },
  {
   "cell_type": "code",
   "execution_count": null,
   "metadata": {
    "id": "Xzf8xHgyojW-"
   },
   "outputs": [],
   "source": [
    "def get_data(data_path=\"data\", num_samples=50000, dataset=\"training\"):\n",
    "    '''\n",
    "    Function that reads and returns the required training or testing data\n",
    "    :param data_path: string: the relative folder path to where the data lies (default: ./data)\n",
    "    :param num_samples: int: number of samples required (MAX 50000)\n",
    "    :param dataset: string: training or testing, default is training\n",
    "    :return: two numpy arrays 1 containing data and other containing corresponding labels.\n",
    "             data shape = [num_samples, 32, 32, 3] and labels shape = [num_samples, 10] for cifar-10 data\n",
    "             consistency checked with keras dataset cifar10\n",
    "    '''\n",
    "    if dataset == \"testing\" and num_samples > MAX_TESTING_SAMPLES:\n",
    "        num_samples = MAX_TESTING_SAMPLES\n",
    "    if dataset == \"training\" and num_samples>MAX_TRAINING_SAMPLES:\n",
    "        num_samples = MAX_TRAINING_SAMPLES\n",
    "    data = np.zeros(shape=(num_samples, NUM_DIMENSIONS))\n",
    "    labels = np.zeros(shape=(NUM_CLASSES, num_samples))\n",
    "    num_batches = num_samples//SAMPLES_PER_BATCH + 1\n",
    "    if num_batches > TOTAL_BATCHES:\n",
    "        num_batches = TOTAL_BATCHES\n",
    "    remaining = num_samples - 0\n",
    "    for _ in range(num_batches):\n",
    "        file_name = FILE_NAME[dataset]+str(_+1) if dataset==\"training\" else FILE_NAME[dataset]\n",
    "        file = path.join('.', data_path, file_name)\n",
    "        if remaining > SAMPLES_PER_BATCH:\n",
    "            ret_val = unpickle(file, SAMPLES_PER_BATCH)\n",
    "            data[_*SAMPLES_PER_BATCH: SAMPLES_PER_BATCH*(_+1)] = ret_val[0]\n",
    "            labels[:, _*SAMPLES_PER_BATCH: SAMPLES_PER_BATCH*(_+1)] = ret_val[1]\n",
    "        else:\n",
    "            ret_val = unpickle(file, remaining)\n",
    "            data[_*SAMPLES_PER_BATCH:] = ret_val[0]\n",
    "            labels[:, _*SAMPLES_PER_BATCH:] = ret_val[1]\n",
    "        remaining = remaining - SAMPLES_PER_BATCH\n",
    "    return data.reshape(-1, 3, 32, 32).transpose(0, 2, 3, 1).astype(np.float32), labels.T\n"
   ]
  }
 ],
 "metadata": {
  "colab": {
   "authorship_tag": "ABX9TyNlXNSXaxgaQEEdZwvC84qo",
   "mount_file_id": "1gwEX7RjColaCW7JH8_rOZqdTs8_F-P1L",
   "name": "filereaders.ipynb",
   "provenance": []
  },
  "kernelspec": {
   "display_name": "Python 3",
   "language": "python",
   "name": "python3"
  },
  "language_info": {
   "codemirror_mode": {
    "name": "ipython",
    "version": 3
   },
   "file_extension": ".py",
   "mimetype": "text/x-python",
   "name": "python",
   "nbconvert_exporter": "python",
   "pygments_lexer": "ipython3",
   "version": "3.7.4"
  }
 },
 "nbformat": 4,
 "nbformat_minor": 1
}
