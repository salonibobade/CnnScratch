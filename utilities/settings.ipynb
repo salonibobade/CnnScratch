{
 "cells": [
  {
   "cell_type": "code",
   "execution_count": 1,
   "metadata": {
    "executionInfo": {
     "elapsed": 1115,
     "status": "ok",
     "timestamp": 1616160462133,
     "user": {
      "displayName": "4310_SALONI BOBADE",
      "photoUrl": "https://lh3.googleusercontent.com/a-/AOh14Gg2aIOEj8A3A8D41lW7w7Tqe0H5bPeCT0u0_ha0=s64",
      "userId": "04126209980428894408"
     },
     "user_tz": -330
    },
    "id": "90oyqrVXeYfS"
   },
   "outputs": [],
   "source": [
    "layer_nums = {\n",
    "    'fc': 1,\n",
    "    'conv': 1\n",
    "}\n",
    "network_name = None\n",
    "models_path = 'models'\n"
   ]
  },
  {
   "cell_type": "code",
   "execution_count": 2,
   "metadata": {
    "executionInfo": {
     "elapsed": 1087,
     "status": "ok",
     "timestamp": 1616160464819,
     "user": {
      "displayName": "4310_SALONI BOBADE",
      "photoUrl": "https://lh3.googleusercontent.com/a-/AOh14Gg2aIOEj8A3A8D41lW7w7Tqe0H5bPeCT0u0_ha0=s64",
      "userId": "04126209980428894408"
     },
     "user_tz": -330
    },
    "id": "6kuFkQDKmmC2"
   },
   "outputs": [],
   "source": [
    "def init():\n",
    "    global layer_nums\n",
    "    layer_nums = {\n",
    "        'fc': 1,\n",
    "        'conv': 1\n",
    "    }\n",
    "    global network_name\n",
    "    network_name = None"
   ]
  },
  {
   "cell_type": "code",
   "execution_count": 3,
   "metadata": {
    "executionInfo": {
     "elapsed": 1130,
     "status": "ok",
     "timestamp": 1616160466542,
     "user": {
      "displayName": "4310_SALONI BOBADE",
      "photoUrl": "https://lh3.googleusercontent.com/a-/AOh14Gg2aIOEj8A3A8D41lW7w7Tqe0H5bPeCT0u0_ha0=s64",
      "userId": "04126209980428894408"
     },
     "user_tz": -330
    },
    "id": "28zwiqoNmj-2"
   },
   "outputs": [],
   "source": [
    "def get_layer_num(layer_type):\n",
    "    global layer_nums\n",
    "    return layer_nums[layer_type]"
   ]
  },
  {
   "cell_type": "code",
   "execution_count": 4,
   "metadata": {
    "executionInfo": {
     "elapsed": 695,
     "status": "ok",
     "timestamp": 1616160467866,
     "user": {
      "displayName": "4310_SALONI BOBADE",
      "photoUrl": "https://lh3.googleusercontent.com/a-/AOh14Gg2aIOEj8A3A8D41lW7w7Tqe0H5bPeCT0u0_ha0=s64",
      "userId": "04126209980428894408"
     },
     "user_tz": -330
    },
    "id": "a4_0Pk5JmiV9"
   },
   "outputs": [],
   "source": [
    "def get_models_path():\n",
    "    return models_path\n"
   ]
  },
  {
   "cell_type": "code",
   "execution_count": 5,
   "metadata": {
    "executionInfo": {
     "elapsed": 1080,
     "status": "ok",
     "timestamp": 1616160470794,
     "user": {
      "displayName": "4310_SALONI BOBADE",
      "photoUrl": "https://lh3.googleusercontent.com/a-/AOh14Gg2aIOEj8A3A8D41lW7w7Tqe0H5bPeCT0u0_ha0=s64",
      "userId": "04126209980428894408"
     },
     "user_tz": -330
    },
    "id": "DbC8CmiymgbU"
   },
   "outputs": [],
   "source": [
    "def inc_layer_num(layer_type):\n",
    "    global layer_nums\n",
    "    layer_nums[layer_type] += 1"
   ]
  },
  {
   "cell_type": "code",
   "execution_count": 6,
   "metadata": {
    "executionInfo": {
     "elapsed": 691,
     "status": "ok",
     "timestamp": 1616160472103,
     "user": {
      "displayName": "4310_SALONI BOBADE",
      "photoUrl": "https://lh3.googleusercontent.com/a-/AOh14Gg2aIOEj8A3A8D41lW7w7Tqe0H5bPeCT0u0_ha0=s64",
      "userId": "04126209980428894408"
     },
     "user_tz": -330
    },
    "id": "ODDuKHbbmesb"
   },
   "outputs": [],
   "source": [
    "def set_network_name(name):\n",
    "    global network_name\n",
    "    network_name = name"
   ]
  },
  {
   "cell_type": "code",
   "execution_count": 7,
   "metadata": {
    "executionInfo": {
     "elapsed": 1068,
     "status": "ok",
     "timestamp": 1616160474656,
     "user": {
      "displayName": "4310_SALONI BOBADE",
      "photoUrl": "https://lh3.googleusercontent.com/a-/AOh14Gg2aIOEj8A3A8D41lW7w7Tqe0H5bPeCT0u0_ha0=s64",
      "userId": "04126209980428894408"
     },
     "user_tz": -330
    },
    "id": "5foiYubemdMB"
   },
   "outputs": [],
   "source": [
    "def get_network_name():\n",
    "    if network_name is None:\n",
    "        raise RuntimeError(\"Model name not set, set name as 'model.set_name(<name>)'\")\n",
    "    return network_name"
   ]
  },
  {
   "cell_type": "code",
   "execution_count": null,
   "metadata": {},
   "outputs": [],
   "source": []
  }
 ],
 "metadata": {
  "colab": {
   "authorship_tag": "ABX9TyPCumNwAHhCqdG6uVUADGoX",
   "mount_file_id": "1plWAIXczttkecEZeClZ_82SSVU1yV79f",
   "name": "settings.ipynb",
   "provenance": []
  },
  "kernelspec": {
   "display_name": "Python 3",
   "language": "python",
   "name": "python3"
  },
  "language_info": {
   "codemirror_mode": {
    "name": "ipython",
    "version": 3
   },
   "file_extension": ".py",
   "mimetype": "text/x-python",
   "name": "python",
   "nbconvert_exporter": "python",
   "pygments_lexer": "ipython3",
   "version": "3.7.4"
  }
 },
 "nbformat": 4,
 "nbformat_minor": 1
}
