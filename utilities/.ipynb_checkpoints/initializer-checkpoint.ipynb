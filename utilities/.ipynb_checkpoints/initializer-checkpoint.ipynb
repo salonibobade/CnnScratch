{
 "cells": [
  {
   "cell_type": "code",
   "execution_count": 1,
   "metadata": {
    "executionInfo": {
     "elapsed": 1000,
     "status": "ok",
     "timestamp": 1616160528905,
     "user": {
      "displayName": "4310_SALONI BOBADE",
      "photoUrl": "https://lh3.googleusercontent.com/a-/AOh14Gg2aIOEj8A3A8D41lW7w7Tqe0H5bPeCT0u0_ha0=s64",
      "userId": "04126209980428894408"
     },
     "user_tz": -330
    },
    "id": "SIiroyI3n4VB"
   },
   "outputs": [],
   "source": [
    "import numpy as np"
   ]
  },
  {
   "cell_type": "code",
   "execution_count": 2,
   "metadata": {
    "executionInfo": {
     "elapsed": 669,
     "status": "ok",
     "timestamp": 1616160530475,
     "user": {
      "displayName": "4310_SALONI BOBADE",
      "photoUrl": "https://lh3.googleusercontent.com/a-/AOh14Gg2aIOEj8A3A8D41lW7w7Tqe0H5bPeCT0u0_ha0=s64",
      "userId": "04126209980428894408"
     },
     "user_tz": -330
    },
    "id": "Iw-laOqVoRc4"
   },
   "outputs": [],
   "source": [
    "def get_fans(shape):\n",
    "    '''\n",
    "\n",
    "    :param shape:\n",
    "    :return:\n",
    "    '''\n",
    "    fan_in = shape[0] if len(shape) == 2 else np.prod(shape[1:])\n",
    "    fan_out = shape[1] if len(shape) == 2 else shape[0]\n",
    "    return fan_in, fan_out\n"
   ]
  },
  {
   "cell_type": "code",
   "execution_count": 3,
   "metadata": {
    "executionInfo": {
     "elapsed": 1026,
     "status": "ok",
     "timestamp": 1616160536009,
     "user": {
      "displayName": "4310_SALONI BOBADE",
      "photoUrl": "https://lh3.googleusercontent.com/a-/AOh14Gg2aIOEj8A3A8D41lW7w7Tqe0H5bPeCT0u0_ha0=s64",
      "userId": "04126209980428894408"
     },
     "user_tz": -330
    },
    "id": "i_lmB34ooPcb"
   },
   "outputs": [],
   "source": [
    "def normal(shape, scale=0.05):\n",
    "    '''\n",
    "\n",
    "    :param shape:\n",
    "    :param scale:\n",
    "    :return:\n",
    "    '''\n",
    "    return np.random.normal(0, scale, size=shape)"
   ]
  },
  {
   "cell_type": "code",
   "execution_count": 4,
   "metadata": {
    "executionInfo": {
     "elapsed": 1036,
     "status": "ok",
     "timestamp": 1616160538537,
     "user": {
      "displayName": "4310_SALONI BOBADE",
      "photoUrl": "https://lh3.googleusercontent.com/a-/AOh14Gg2aIOEj8A3A8D41lW7w7Tqe0H5bPeCT0u0_ha0=s64",
      "userId": "04126209980428894408"
     },
     "user_tz": -330
    },
    "id": "2L1KxxFFoNd1"
   },
   "outputs": [],
   "source": [
    "def uniform(shape, scale=0.05):\n",
    "    '''\n",
    "\n",
    "    :param shape:\n",
    "    :param scale:\n",
    "    :return:\n",
    "    '''\n",
    "    return np.random.uniform(-scale, scale, size=shape)"
   ]
  },
  {
   "cell_type": "code",
   "execution_count": 5,
   "metadata": {
    "executionInfo": {
     "elapsed": 1243,
     "status": "ok",
     "timestamp": 1616160548565,
     "user": {
      "displayName": "4310_SALONI BOBADE",
      "photoUrl": "https://lh3.googleusercontent.com/a-/AOh14Gg2aIOEj8A3A8D41lW7w7Tqe0H5bPeCT0u0_ha0=s64",
      "userId": "04126209980428894408"
     },
     "user_tz": -330
    },
    "id": "eUGzcCb8oK6b"
   },
   "outputs": [],
   "source": [
    "def he_normal(shape):\n",
    "    '''\n",
    "    A function for smart normal distribution based initialization of parameters\n",
    "    [He et al. https://arxiv.org/abs/1502.01852]\n",
    "    :param fan_in: The number of units in previous layer.\n",
    "    :param fan_out: The number of units in current layer.\n",
    "    :return:[numpy array, numpy array]: A randomly initialized array of shape [fan_out, fan_in]\n",
    "    '''\n",
    "    fan_in, fan_out = get_fans(shape)\n",
    "    scale = np.sqrt(2. / fan_in)\n",
    "    shape = (fan_out, fan_in) if len(shape) == 2 else shape         # For a fully connected network\n",
    "    bias_shape = (fan_out, 1) if len(shape) == 2 else (\n",
    "        1, 1, 1, shape[3])   # This supports only CNNs and fully connected networks\n",
    "    return normal(shape, scale), uniform(bias_shape)\n",
    "\n",
    "\n"
   ]
  },
  {
   "cell_type": "code",
   "execution_count": 6,
   "metadata": {
    "executionInfo": {
     "elapsed": 1041,
     "status": "ok",
     "timestamp": 1616160553251,
     "user": {
      "displayName": "4310_SALONI BOBADE",
      "photoUrl": "https://lh3.googleusercontent.com/a-/AOh14Gg2aIOEj8A3A8D41lW7w7Tqe0H5bPeCT0u0_ha0=s64",
      "userId": "04126209980428894408"
     },
     "user_tz": -330
    },
    "id": "uJPX19apoH4J"
   },
   "outputs": [],
   "source": [
    "def he_uniform(shape):\n",
    "    '''\n",
    "    A function for smart uniform distribution based initialization of parameters\n",
    "    [He et al. https://arxiv.org/abs/1502.01852]\n",
    "    :param fan_in: The number of units in previous layer.\n",
    "    :param fan_out: The number of units in current layer.\n",
    "    :return:[numpy array, numpy array]: A randomly initialized array of shape [fan_out, fan_in] and\n",
    "            the bias of shape [fan_out, 1]\n",
    "    '''\n",
    "    fan_in, fan_out = get_fans(shape)\n",
    "    scale = np.sqrt(6. / fan_in)\n",
    "    shape = (fan_out, fan_in) if len(shape) == 2 else shape  # For a fully connected network\n",
    "    bias_shape = (fan_out, 1) if len(shape) == 2 else (\n",
    "        1, 1, 1, shape[3])  # This supports only CNNs and fully connected networks\n",
    "    return uniform(shape, scale), uniform(shape=bias_shape)"
   ]
  },
  {
   "cell_type": "code",
   "execution_count": 7,
   "metadata": {
    "executionInfo": {
     "elapsed": 1915,
     "status": "ok",
     "timestamp": 1616160557400,
     "user": {
      "displayName": "4310_SALONI BOBADE",
      "photoUrl": "https://lh3.googleusercontent.com/a-/AOh14Gg2aIOEj8A3A8D41lW7w7Tqe0H5bPeCT0u0_ha0=s64",
      "userId": "04126209980428894408"
     },
     "user_tz": -330
    },
    "id": "B4mPIr5ooEVK"
   },
   "outputs": [],
   "source": [
    "def glorot_normal(shape):\n",
    "    '''\n",
    "    A function for smart uniform distribution based initialization of parameters\n",
    "    [Glorot et al. http://proceedings.mlr.press/v9/glorot10a/glorot10a.pdf]\n",
    "    :param fan_in: The number of units in previous layer.\n",
    "    :param fan_out: The number of units in current layer.\n",
    "    :return:[numpy array, numpy array]: A randomly initialized array of shape [fan_out, fan_in] and\n",
    "            the bias of shape [fan_out, 1]\n",
    "    '''\n",
    "    fan_in, fan_out = get_fans(shape)\n",
    "    scale = np.sqrt(2. / (fan_in + fan_out))\n",
    "    shape = (fan_out, fan_in) if len(shape) == 2 else shape  # For a fully connected network\n",
    "    bias_shape = (fan_out, 1) if len(shape) == 2 else (\n",
    "        1, 1, 1, shape[3])  # This supports only CNNs and fully connected networks\n",
    "    return normal(shape, scale), uniform(shape=bias_shape)\n"
   ]
  },
  {
   "cell_type": "code",
   "execution_count": 8,
   "metadata": {
    "executionInfo": {
     "elapsed": 986,
     "status": "ok",
     "timestamp": 1616160559330,
     "user": {
      "displayName": "4310_SALONI BOBADE",
      "photoUrl": "https://lh3.googleusercontent.com/a-/AOh14Gg2aIOEj8A3A8D41lW7w7Tqe0H5bPeCT0u0_ha0=s64",
      "userId": "04126209980428894408"
     },
     "user_tz": -330
    },
    "id": "4dkEW-S1oCpn"
   },
   "outputs": [],
   "source": [
    "def glorot_uniform(shape):\n",
    "    '''\n",
    "    A function for smart uniform distribution based initialization of parameters\n",
    "    [Glorot et al. http://proceedings.mlr.press/v9/glorot10a/glorot10a.pdf]\n",
    "    :param fan_in: The number of units in previous layer.\n",
    "    :param fan_out: The number of units in current layer.\n",
    "    :return:[numpy array, numpy array]: A randomly initialized array of shape [fan_out, fan_in] and\n",
    "            the bias of shape [fan_out, 1]\n",
    "    '''\n",
    "    fan_in, fan_out = get_fans(shape)\n",
    "    scale = np.sqrt(6. / (fan_in + fan_out))\n",
    "    shape = (fan_out, fan_in) if len(shape) == 2 else shape  # For a fully connected network\n",
    "    bias_shape = (fan_out, 1) if len(shape) == 2 else (\n",
    "        1, 1, 1, shape[3])  # This supports only CNNs and fully connected networks\n",
    "    return uniform(shape, scale), uniform(shape=bias_shape)"
   ]
  },
  {
   "cell_type": "code",
   "execution_count": null,
   "metadata": {},
   "outputs": [],
   "source": []
  }
 ],
 "metadata": {
  "colab": {
   "authorship_tag": "ABX9TyPtx6W/16sqINH6ijCPuO66",
   "name": "initializer.ipynb",
   "provenance": []
  },
  "kernelspec": {
   "display_name": "Python 3",
   "language": "python",
   "name": "python3"
  },
  "language_info": {
   "codemirror_mode": {
    "name": "ipython",
    "version": 3
   },
   "file_extension": ".py",
   "mimetype": "text/x-python",
   "name": "python",
   "nbconvert_exporter": "python",
   "pygments_lexer": "ipython3",
   "version": "3.7.4"
  }
 },
 "nbformat": 4,
 "nbformat_minor": 1
}
